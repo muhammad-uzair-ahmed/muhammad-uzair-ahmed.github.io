{
 "metadata": {
  "language_info": {
   "codemirror_mode": {
    "name": "ipython",
    "version": 3
   },
   "file_extension": ".py",
   "mimetype": "text/x-python",
   "name": "python",
   "nbconvert_exporter": "python",
   "pygments_lexer": "ipython3",
   "version": 3
  },
  "orig_nbformat": 2
 },
 "nbformat": 4,
 "nbformat_minor": 2,
 "cells": [
  {
   "source": [
    "print('hello word');"
   ],
   "cell_type": "code",
   "metadata": {},
   "execution_count": null,
   "outputs": [
    {
     "output_type": "error",
     "ename": "Error",
     "evalue": "Jupyter cannot be started. Error attempting to locate jupyter: Select an Interpreter to start Jupyter",
     "traceback": [
      "Error: Jupyter cannot be started. Error attempting to locate jupyter: Select an Interpreter to start Jupyter",
      "at S.startServer (/home/uzi/.vscode/extensions/ms-toolsai.jupyter-2021.5.745244803/out/client/extension.js:49:382895)",
      "at processTicksAndRejections (internal/process/task_queues.js:97:5)",
      "at async S.createServer (/home/uzi/.vscode/extensions/ms-toolsai.jupyter-2021.5.745244803/out/client/extension.js:49:382190)",
      "at async connect (/home/uzi/.vscode/extensions/ms-toolsai.jupyter-2021.5.745244803/out/client/extension.js:49:495725)",
      "at async T.ensureConnectionAndNotebookImpl (/home/uzi/.vscode/extensions/ms-toolsai.jupyter-2021.5.745244803/out/client/extension.js:32:668241)",
      "at async T.ensureConnectionAndNotebook (/home/uzi/.vscode/extensions/ms-toolsai.jupyter-2021.5.745244803/out/client/extension.js:32:666473)",
      "at async T.clearResult (/home/uzi/.vscode/extensions/ms-toolsai.jupyter-2021.5.745244803/out/client/extension.js:32:662135)",
      "at async T.reexecuteCell (/home/uzi/.vscode/extensions/ms-toolsai.jupyter-2021.5.745244803/out/client/extension.js:32:648400)",
      "at async T.reexecuteCells (/home/uzi/.vscode/extensions/ms-toolsai.jupyter-2021.5.745244803/out/client/extension.js:32:644604)"
     ]
    }
   ]
  },
  {
   "cell_type": "code",
   "execution_count": null,
   "metadata": {},
   "outputs": [],
   "source": []
  }
 ]
}